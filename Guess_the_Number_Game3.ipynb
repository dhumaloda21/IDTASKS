{
  "nbformat": 4,
  "nbformat_minor": 0,
  "metadata": {
    "colab": {
      "provenance": [],
      "authorship_tag": "ABX9TyOz7KNE4Bu8KYpKkS4OGFxF",
      "include_colab_link": true
    },
    "kernelspec": {
      "name": "python3",
      "display_name": "Python 3"
    },
    "language_info": {
      "name": "python"
    }
  },
  "cells": [
    {
      "cell_type": "markdown",
      "metadata": {
        "id": "view-in-github",
        "colab_type": "text"
      },
      "source": [
        "<a href=\"https://colab.research.google.com/github/dhumaloda21/IDTASKS/blob/main/Guess_the_Number_Game3.ipynb\" target=\"_parent\"><img src=\"https://colab.research.google.com/assets/colab-badge.svg\" alt=\"Open In Colab\"/></a>"
      ]
    },
    {
      "cell_type": "code",
      "source": [
        "import random"
      ],
      "metadata": {
        "id": "rfOISv5LUQYj"
      },
      "execution_count": null,
      "outputs": []
    },
    {
      "cell_type": "code",
      "execution_count": null,
      "metadata": {
        "id": "wNFjhVazTEoe"
      },
      "outputs": [],
      "source": []
    },
    {
      "cell_type": "code",
      "source": [
        "def Guess_number():\n",
        "  secret_number = random.randint(0,5)\n",
        "  max_attempt = 5\n",
        "  attempt = 0\n",
        "\n",
        "  guess = int(input(\"enter number:\"))\n",
        "\n",
        "  while attempt < max_attempt:\n",
        "    try :\n",
        "      guess = int(input(\"enter number:\"))\n",
        "\n",
        "      if guess == secret_number:\n",
        "        print(\"correct \")\n",
        "        break\n",
        "      else:\n",
        "        print(\"incorrect\")\n",
        "        break\n",
        "\n",
        "      attempt += 1\n",
        "\n",
        "    except ValueError:\n",
        "      print(\"Invalid input. Please enter a valid integer.\")\n",
        "\n",
        "\n"
      ],
      "metadata": {
        "id": "zTMKN-r2UsuH"
      },
      "execution_count": null,
      "outputs": []
    },
    {
      "cell_type": "code",
      "source": [
        "Guess_number()"
      ],
      "metadata": {
        "colab": {
          "base_uri": "https://localhost:8080/"
        },
        "id": "npUFsrXQWfCn",
        "outputId": "6ec7d16c-de48-409f-afd7-824d644eddd3"
      },
      "execution_count": null,
      "outputs": [
        {
          "output_type": "stream",
          "name": "stdout",
          "text": [
            "enter number:3\n",
            "enter number:4\n",
            "incorrect\n"
          ]
        }
      ]
    }
  ]
}